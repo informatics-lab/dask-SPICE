{
 "cells": [
  {
   "cell_type": "code",
   "execution_count": null,
   "metadata": {
    "collapsed": true
   },
   "outputs": [],
   "source": [
    "%matplotlib notebook"
   ]
  },
  {
   "cell_type": "markdown",
   "metadata": {},
   "source": [
    "# Iris/dask dataset loading investigation\n",
    "\n",
    "## Introduction\n",
    "\n",
    "This demos using dask functionality beyond the `array` module to help with Iris processing. Specifically, in this notebook we will demo alternative approaches for loading numerous and/or large datasets into Iris.\n",
    "\n",
    "Three approaches will be compared:\n",
    "\n",
    "* The standard Iris load\n",
    "* ~~Wrapping Iris load calls in a **dask bag** generated from a sequence (this is slow so will not be investigated further)~~\n",
    "* Wrapping Iris load calls in a **dask bag** generated from a **delayed** call\n",
    "\n",
    "These options will be compared with two simple metrics:\n",
    "\n",
    "- Ease of use\n",
    "- Runtime"
   ]
  },
  {
   "cell_type": "markdown",
   "metadata": {},
   "source": [
    "## Setup\n",
    "\n",
    "Below are the functions used to load the dataset. There is one function for each of the standard Iris load and the bag generated from a sequence. The bag generated from a delayed call requires two functions; one which is delayed, one to call the delayed function.\n",
    "\n",
    "### Imports"
   ]
  },
  {
   "cell_type": "code",
   "execution_count": 11,
   "metadata": {
    "collapsed": true
   },
   "outputs": [],
   "source": [
    "import os\n",
    "import time\n",
    "\n",
    "import dask\n",
    "import dask.bag as db\n",
    "import dask.delayed as delayed\n",
    "import iris"
   ]
  },
  {
   "cell_type": "markdown",
   "metadata": {},
   "source": [
    "### Dask processing options\n",
    "\n",
    "Define options on how dask is to process computation of graphs. Choose one of these!"
   ]
  },
  {
   "cell_type": "code",
   "execution_count": null,
   "metadata": {
    "collapsed": false
   },
   "outputs": [],
   "source": [
    "from multiprocessing.pool import ThreadPool\n",
    "\n",
    "dask.set_options(pool=ThreadPool(8))"
   ]
  },
  {
   "cell_type": "code",
   "execution_count": 12,
   "metadata": {
    "collapsed": true
   },
   "outputs": [],
   "source": [
    "from distributed import Client\n",
    "\n",
    "host_subnet = 55\n",
    "s = '10.154.1.{}:8776'.format(host_subnet)\n",
    "\n",
    "client = Client(s)"
   ]
  },
  {
   "cell_type": "code",
   "execution_count": 13,
   "metadata": {
    "collapsed": false
   },
   "outputs": [
    {
     "name": "stdout",
     "output_type": "stream",
     "text": [
      "defaultdict(<function <lambda> at 0x7ff3ea1ec8c0>, {'callbacks': set([]), 'shuffle': 'tasks', 'get': <bound method Client.get of <Client: scheduler=\"10.154.1.55:8776\" processes=8 cores=8>>})\n"
     ]
    }
   ],
   "source": [
    "print dask.context._globals"
   ]
  },
  {
   "cell_type": "markdown",
   "metadata": {},
   "source": [
    "### Timer function\n",
    "\n",
    "A simple function that records the runtime of a supplied function. This will be useful for capturing results; otherwise within this notebook we can just make use of the `%timeit` magic. "
   ]
  },
  {
   "cell_type": "code",
   "execution_count": 14,
   "metadata": {
    "collapsed": true
   },
   "outputs": [],
   "source": [
    "def timer(func, *funcargs):\n",
    "    t0 = time.time()\n",
    "    func(*funcargs)\n",
    "    t1 = time.time()\n",
    "    return t1 - t0"
   ]
  },
  {
   "cell_type": "markdown",
   "metadata": {},
   "source": [
    "### Graphs\n",
    "\n",
    "Draw the graph of each of the distributed processing options."
   ]
  },
  {
   "cell_type": "code",
   "execution_count": null,
   "metadata": {
    "collapsed": false
   },
   "outputs": [],
   "source": [
    "%matplotlib inline\n",
    "\n",
    "dlyd = delayed(iris.load)(os.path.join(fp, '*.pp'))\n",
    "cs = db.from_delayed(dlyd)\n",
    "cs.visualize()"
   ]
  },
  {
   "cell_type": "code",
   "execution_count": null,
   "metadata": {
    "collapsed": false
   },
   "outputs": [],
   "source": [
    "%matplotlib inline\n",
    "\n",
    "dlyds = [delayed(iris.load)(os.path.join(fp, pattern)) for pattern in seq]\n",
    "cs = db.from_delayed(dlyds)\n",
    "cs.visualize()"
   ]
  },
  {
   "cell_type": "markdown",
   "metadata": {},
   "source": [
    "### Runner functions"
   ]
  },
  {
   "cell_type": "code",
   "execution_count": 15,
   "metadata": {
    "collapsed": true
   },
   "outputs": [],
   "source": [
    "@delayed\n",
    "def loader(fn):\n",
    "    return iris.load(os.path.join(fn))\n",
    "\n",
    "def direct_load(fp, pattern):\n",
    "    \"\"\"Load datasets at the filepath `fp` using Iris.\"\"\"\n",
    "    iris.load(os.path.join(fp, pattern))\n",
    "\n",
    "def delay_wrapper(fp, pattern):\n",
    "    dlyd = delayed(iris.load)(os.path.join(fp, pattern))\n",
    "    cs = db.from_delayed(dlyd)\n",
    "    iris.cube.CubeList(cs.compute())\n",
    "\n",
    "def delay_wrapper_v2(fp, seq):\n",
    "    dlyds = [delayed(iris.load)(os.path.join(fp, pattern)) for pattern in seq]\n",
    "    cs = db.from_delayed(dlyds)\n",
    "    iris.cube.CubeList(cs.compute())\n",
    "\n",
    "def delay_wrapper_v3(fp, seq):\n",
    "    cs = db.from_delayed(map(loader, [os.path.join(fp, fn) for fn in seq]))\n",
    "    iris.cube.CubeList(cs.compute())"
   ]
  },
  {
   "cell_type": "markdown",
   "metadata": {},
   "source": [
    "## Test!\n",
    "\n",
    "Run each loader on some sample data and print the output.\n",
    "\n",
    "Using **sample PP data** at `/project/euro4_hindcast/WIND-ATLAS_EURO4-RERUN/2015/06/18Z`:"
   ]
  },
  {
   "cell_type": "code",
   "execution_count": 16,
   "metadata": {
    "collapsed": true
   },
   "outputs": [],
   "source": [
    "fp = '/project/euro4_hindcast/WIND-ATLAS_EURO4-RERUN/2015/06/18Z'\n",
    "# fn = 'EURO4_2015060[1-3].pp'\n",
    "fn = '*.pp'\n",
    "seq = os.listdir(fp)\n",
    "reps = 3"
   ]
  },
  {
   "cell_type": "code",
   "execution_count": null,
   "metadata": {
    "collapsed": false
   },
   "outputs": [],
   "source": [
    "direct_vals = timer(direct_load, fp, fn)\n",
    "print direct_vals"
   ]
  },
  {
   "cell_type": "code",
   "execution_count": null,
   "metadata": {
    "collapsed": false
   },
   "outputs": [],
   "source": [
    "delay_vals = timer(delay_wrapper, fp, fn)\n",
    "print delay_vals"
   ]
  },
  {
   "cell_type": "code",
   "execution_count": 17,
   "metadata": {
    "collapsed": false
   },
   "outputs": [
    {
     "name": "stdout",
     "output_type": "stream",
     "text": [
      "45.92821908\n"
     ]
    }
   ],
   "source": [
    "delay_vals_v2 = timer(delay_wrapper_v2, fp, seq)\n",
    "print delay_vals_v2"
   ]
  },
  {
   "cell_type": "code",
   "execution_count": null,
   "metadata": {
    "collapsed": false
   },
   "outputs": [],
   "source": [
    "delay_vals_v3 = timer(delay_wrapper_v3, fp, seq)\n",
    "print delay_vals_v3"
   ]
  },
  {
   "cell_type": "code",
   "execution_count": null,
   "metadata": {
    "collapsed": true
   },
   "outputs": [],
   "source": [
    "fig = plt.figure(figsize=(9, 6))\n",
    "plt.boxplot([direct_load_vals_pp, delay_vals_v2_pp],\n",
    "            vert=True, labels=['direct', 'delay'])\n",
    "plt.show()"
   ]
  }
 ],
 "metadata": {
  "kernelspec": {
   "display_name": "Python 2",
   "language": "python",
   "name": "python2"
  },
  "language_info": {
   "codemirror_mode": {
    "name": "ipython",
    "version": 2
   },
   "file_extension": ".py",
   "mimetype": "text/x-python",
   "name": "python",
   "nbconvert_exporter": "python",
   "pygments_lexer": "ipython2",
   "version": "2.7.12"
  }
 },
 "nbformat": 4,
 "nbformat_minor": 0
}
