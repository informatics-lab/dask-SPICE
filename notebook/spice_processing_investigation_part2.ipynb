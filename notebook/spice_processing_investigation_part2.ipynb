{
 "cells": [
  {
   "cell_type": "code",
   "execution_count": null,
   "metadata": {
    "collapsed": true
   },
   "outputs": [],
   "source": [
    "%matplotlib inline"
   ]
  },
  {
   "cell_type": "markdown",
   "metadata": {},
   "source": [
    "# Iris/dask dataset processing investigation\n",
    "\n",
    "## Introduction\n",
    "\n",
    "This demos using dask functionality beyond the `array` module to help with Iris processing. Specifically, in this notebook we will demo alternative approaches for loading numerous and/or large datasets into Iris.\n",
    "\n",
    "Three approaches will be compared:\n",
    "\n",
    "* The standard Iris load\n",
    "* ~~Wrapping Iris load calls in a **dask bag** generated from a sequence (this is slow so will not be investigated further)~~\n",
    "* Wrapping Iris load calls in a **dask bag** generated from a **delayed** call\n",
    "\n",
    "These options will be compared with two simple metrics:\n",
    "\n",
    "- Ease of use\n",
    "- Runtime"
   ]
  },
  {
   "cell_type": "markdown",
   "metadata": {},
   "source": [
    "## Setup\n",
    "\n",
    "Below are the functions used to load the dataset. There is one function for each of the standard Iris load and the bag generated from a sequence. The bag generated from a delayed call requires two functions; one which is delayed, one to call the delayed function.\n",
    "\n",
    "### Imports"
   ]
  },
  {
   "cell_type": "code",
   "execution_count": null,
   "metadata": {
    "collapsed": true
   },
   "outputs": [],
   "source": [
    "import os\n",
    "import time\n",
    "\n",
    "import dask\n",
    "import dask.array as da\n",
    "import dask.bag as db\n",
    "import dask.delayed as delayed\n",
    "import iris"
   ]
  },
  {
   "cell_type": "markdown",
   "metadata": {},
   "source": [
    "### Dask processing options\n",
    "\n",
    "Define options on how dask is to process computation of graphs. Choose one of these!"
   ]
  },
  {
   "cell_type": "code",
   "execution_count": null,
   "metadata": {
    "collapsed": true
   },
   "outputs": [],
   "source": [
    "from distributed import Client\n",
    "\n",
    "host_subnet = 55\n",
    "s = '10.154.1.{}:8776'.format(host_subnet)\n",
    "\n",
    "client = Client(s)"
   ]
  },
  {
   "cell_type": "code",
   "execution_count": null,
   "metadata": {
    "collapsed": false
   },
   "outputs": [],
   "source": [
    "print dask.context._globals"
   ]
  },
  {
   "cell_type": "markdown",
   "metadata": {},
   "source": [
    "### Loader function"
   ]
  },
  {
   "cell_type": "code",
   "execution_count": null,
   "metadata": {
    "collapsed": true
   },
   "outputs": [],
   "source": [
    "def delay_load(fp, seq):\n",
    "    dlyds = [delayed(iris.load)(os.path.join(fp, pattern)) for pattern in seq]\n",
    "    cs = db.from_delayed(dlyds)\n",
    "    return iris.cube.CubeList(cs.compute())"
   ]
  },
  {
   "cell_type": "markdown",
   "metadata": {},
   "source": [
    "## Test!\n",
    "\n",
    "Run each loader on some sample data and print the output.\n",
    "\n",
    "Using **sample PP data** at `/project/euro4_hindcast/WIND-ATLAS_EURO4-RERUN/2015/06/18Z`:"
   ]
  },
  {
   "cell_type": "code",
   "execution_count": null,
   "metadata": {
    "collapsed": true
   },
   "outputs": [],
   "source": [
    "fp = '/project/euro4_hindcast/WIND-ATLAS_EURO4-RERUN/2015/06/18Z'\n",
    "fn = '*.pp'\n",
    "seq = os.listdir(fp)"
   ]
  },
  {
   "cell_type": "code",
   "execution_count": null,
   "metadata": {
    "collapsed": false
   },
   "outputs": [],
   "source": [
    "cubes = delay_load(fp, seq)"
   ]
  },
  {
   "cell_type": "code",
   "execution_count": null,
   "metadata": {
    "collapsed": false
   },
   "outputs": [],
   "source": [
    "print cubes"
   ]
  },
  {
   "cell_type": "code",
   "execution_count": null,
   "metadata": {
    "collapsed": false
   },
   "outputs": [],
   "source": [
    "cubes[0].core_data()"
   ]
  },
  {
   "cell_type": "markdown",
   "metadata": {},
   "source": [
    "### Data processing\n",
    "\n",
    "The functions required to apply some post-processing to the loaded datasets. Two bits of processing are performed:\n",
    "\n",
    "* `x` and `y` wind are converted to wind speed and direction, and\n",
    "* the variance of wind speed and direction across model levels is calculated."
   ]
  },
  {
   "cell_type": "code",
   "execution_count": null,
   "metadata": {
    "collapsed": true
   },
   "outputs": [],
   "source": [
    "def xy_to_wspd_and_dir(x_cube, y_cube):\n",
    "    \"\"\"\n",
    "    Post-processing, part 1: mathematics.\n",
    "    Converting x and y wind to speed and direction.\n",
    "\n",
    "    \"\"\"\n",
    "    wspd_data = (x_cube.core_data()**2 + y_cube.core_data()**2) ** 0.5\n",
    "    wspd_cube = x_cube.copy(data=wspd_data)\n",
    "    wspd_cube.rename('wind_speed')\n",
    "    wspd_cube.units = 'm s-1'\n",
    "\n",
    "    theta_data = da.arctan(x_cube.core_data() / y_cube.core_data())\n",
    "    theta_cube = y_cube.copy(data=theta_data)\n",
    "    theta_cube.rename('wind_from_direction')\n",
    "    theta_cube.units = 'degrees'\n",
    "\n",
    "    return wspd_cube, theta_cube\n",
    "\n",
    "\n",
    "def mln_variance(wspd_cube, wdir_cube):\n",
    "    \"\"\"\n",
    "    Post-processing, part 2: statistical analysis.\n",
    "    Calculate the variance in wind speed and direction over model levels.\n",
    "\n",
    "    \"\"\"\n",
    "    wspd_var_cube = wspd_cube.collapsed('model_level_number',\n",
    "                                        iris.analysis.VARIANCE)\n",
    "    wdir_var_cube = wdir_cube.collapsed('model_level_number',\n",
    "                                        iris.analysis.VARIANCE)\n",
    "    return wspd_var_cube, wdir_var_cube"
   ]
  },
  {
   "cell_type": "markdown",
   "metadata": {},
   "source": [
    "Run the processing..."
   ]
  },
  {
   "cell_type": "code",
   "execution_count": null,
   "metadata": {
    "collapsed": false
   },
   "outputs": [],
   "source": [
    "# The x- and y-wind cubes are on different domains. This notwithstanding,\n",
    "# the x-wind cube also has one more latitude point than the y-wind cube,\n",
    "# which we arbitrarily chop off.\n",
    "x_wind_cube = cubes[0][..., :-1, :]\n",
    "y_wind_cube = cubes[1]\n",
    "\n",
    "wspd_cube, theta_cube = xy_to_wspd_and_dir(x_wind_cube, y_wind_cube)\n",
    "wspd_var_cube, wdir_var_cube = mln_variance(wspd_cube, theta_cube)"
   ]
  },
  {
   "cell_type": "code",
   "execution_count": null,
   "metadata": {
    "collapsed": false
   },
   "outputs": [],
   "source": [
    "print wspd_var_cube"
   ]
  },
  {
   "cell_type": "code",
   "execution_count": null,
   "metadata": {
    "collapsed": false
   },
   "outputs": [],
   "source": [
    "print wdir_var_cube"
   ]
  },
  {
   "cell_type": "markdown",
   "metadata": {},
   "source": [
    "### Plot\n",
    "\n",
    "Use holoviews to create an interactive plot across timesteps for wind speed and direction data."
   ]
  },
  {
   "cell_type": "code",
   "execution_count": null,
   "metadata": {
    "collapsed": false
   },
   "outputs": [],
   "source": [
    "import geoviews as gv\n",
    "import geoviews.feature as gf\n",
    "import holoviews as hv\n",
    "\n",
    "hv.notebook_extension()\n",
    "%output holomap='auto'"
   ]
  },
  {
   "cell_type": "code",
   "execution_count": null,
   "metadata": {
    "collapsed": false
   },
   "outputs": [],
   "source": [
    "cl = gf.coastline(style=dict(edgecolor='w'))"
   ]
  },
  {
   "cell_type": "code",
   "execution_count": null,
   "metadata": {
    "collapsed": true
   },
   "outputs": [],
   "source": [
    "def slice_image(index):\n",
    "    result = gv.Dataset(wspd_var_cube[index],\n",
    "                        kdims=['grid_longitude', 'grid_latitude'], vdims=['wind_speed']\n",
    "                       ).to(gv.Image)\n",
    "    return result"
   ]
  },
  {
   "cell_type": "code",
   "execution_count": null,
   "metadata": {
    "collapsed": false
   },
   "outputs": [],
   "source": [
    "slice_image(5)"
   ]
  },
  {
   "cell_type": "code",
   "execution_count": null,
   "metadata": {
    "collapsed": false
   },
   "outputs": [],
   "source": [
    "dim_time = hv.Dimension('time',\n",
    "                        values=range(31))"
   ]
  },
  {
   "cell_type": "code",
   "execution_count": null,
   "metadata": {
    "collapsed": false
   },
   "outputs": [],
   "source": [
    "%%output size=275\n",
    "dmap = hv.DynamicMap(slice_image, kdims=[dim_time]) * cl\n",
    "dmap"
   ]
  },
  {
   "cell_type": "code",
   "execution_count": null,
   "metadata": {
    "collapsed": true
   },
   "outputs": [],
   "source": [
    "def slice_image_realize(index):\n",
    "    cube = wspd_var_cube[index]\n",
    "    cube.data\n",
    "    result = gv.Dataset(cube,\n",
    "                        kdims=['grid_longitude', 'grid_latitude'], vdims=['wind_speed']\n",
    "                       ).to(gv.Image)\n",
    "    return result"
   ]
  },
  {
   "cell_type": "code",
   "execution_count": null,
   "metadata": {
    "collapsed": false
   },
   "outputs": [],
   "source": [
    "%%output size=275\n",
    "dmap = hv.DynamicMap(slice_image_realize, kdims=[dim_time]) * cl\n",
    "dmap"
   ]
  },
  {
   "cell_type": "markdown",
   "metadata": {},
   "source": [
    "### Compute results"
   ]
  },
  {
   "cell_type": "code",
   "execution_count": null,
   "metadata": {
    "collapsed": false
   },
   "outputs": [],
   "source": [
    "hv.HoloMap(dmap[set(range(31))])"
   ]
  },
  {
   "cell_type": "code",
   "execution_count": null,
   "metadata": {
    "collapsed": false
   },
   "outputs": [],
   "source": [
    "wspd_var_data = wspd_var_cube.data"
   ]
  },
  {
   "cell_type": "code",
   "execution_count": null,
   "metadata": {
    "collapsed": true
   },
   "outputs": [],
   "source": [
    "wdir_var_data = wdir_var_cube.data"
   ]
  },
  {
   "cell_type": "code",
   "execution_count": null,
   "metadata": {
    "collapsed": false
   },
   "outputs": [],
   "source": [
    "result = gv.Dataset(wspd_var_cube,\n",
    "                    kdims=['time', 'grid_longitude', 'grid_latitude'], vdims=['wind_speed']\n",
    "                   )\n",
    "result"
   ]
  },
  {
   "cell_type": "code",
   "execution_count": null,
   "metadata": {
    "collapsed": false
   },
   "outputs": [],
   "source": [
    "result.data"
   ]
  },
  {
   "cell_type": "code",
   "execution_count": null,
   "metadata": {
    "collapsed": true
   },
   "outputs": [],
   "source": []
  }
 ],
 "metadata": {
  "kernelspec": {
   "display_name": "Python 2",
   "language": "python",
   "name": "python2"
  },
  "language_info": {
   "codemirror_mode": {
    "name": "ipython",
    "version": 2
   },
   "file_extension": ".py",
   "mimetype": "text/x-python",
   "name": "python",
   "nbconvert_exporter": "python",
   "pygments_lexer": "ipython2",
   "version": "2.7.12"
  }
 },
 "nbformat": 4,
 "nbformat_minor": 0
}
